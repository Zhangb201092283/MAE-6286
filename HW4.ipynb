{
 "cells": [
  {
   "cell_type": "code",
   "execution_count": 1,
   "metadata": {
    "collapsed": true
   },
   "outputs": [],
   "source": [
    "import numpy\n",
    "from matplotlib import pyplot\n",
    "%matplotlib inline\n",
    "from matplotlib import rcParams, cm\n",
    "rcParams['font.family'] = 'serif'\n",
    "rcParams['font.size'] = 16"
   ]
  },
  {
   "cell_type": "code",
   "execution_count": 2,
   "metadata": {
    "collapsed": false
   },
   "outputs": [],
   "source": [
    "import numpy\n",
    "uvinitial = numpy.load('./uvinitial.npz')\n",
    "U = uvinitial['U']\n",
    "V = uvinitial['V']"
   ]
  },
  {
   "cell_type": "code",
   "execution_count": 3,
   "metadata": {
    "collapsed": true
   },
   "outputs": [],
   "source": [
    "n = 192\n",
    "Du, Dv, F, k = 0.00016, 0.00008, 0.035, 0.065 # Bacteria 1 \n",
    "dh = 5./(n-1)\n",
    "T = 8000\n",
    "dt = .9 * dh**2 / (4*max(Du,Dv))\n",
    "nt = int(T/dt)\n",
    "Ui=U.copy()\n",
    "Vi=V.copy()"
   ]
  },
  {
   "cell_type": "code",
   "execution_count": 4,
   "metadata": {
    "collapsed": true
   },
   "outputs": [],
   "source": [
    "def ftcs(u,v, nt,n, dt, dh,Du, Dv, F, k):\n",
    "   \n",
    "    for n in range(nt):\n",
    "        un = u.copy()\n",
    "        vn = v.copy()\n",
    "        u[1:-1,1:-1] = un[1:-1,1:-1] + Du *\\\n",
    "            (\n",
    "                dt/dh**2 * (un[2:,1:-1] - 2*un[1:-1,1:-1] + un[:-2,1:-1]) +\\\n",
    "            dt/dh**2 * (un[1:-1,2:] - 2*un[1:-1,1:-1] + un[1:-1,:-2]) \n",
    "            ) -\\\n",
    "            dt*un[1:-1,1:-1]*vn[1:-1,1:-1]**2 + dt*F*(1-un[1:-1,1:-1])\n",
    "            \n",
    "        v[1:-1,1:-1] = vn[1:-1,1:-1] + Dv *\\\n",
    "            (\n",
    "                dt/dh**2 * (vn[2:,1:-1] - 2*vn[1:-1,1:-1] + vn[:-2,1:-1]) +\\\n",
    "            dt/dh**2 * (vn[1:-1,2:] - 2*vn[1:-1,1:-1] + vn[1:-1,:-2])\n",
    "            ) +\\\n",
    "            dt*un[1:-1,1:-1]*vn[1:-1,1:-1]**2 - dt*(F+k)*vn[1:-1,1:-1]\n",
    "  \n",
    "        # Enforce Neumann BCs???\n",
    "        u[0,:] = u[1,:]\n",
    "        u[:,0] = u[:,1]\n",
    "        u[-1,:] = u[-2,:]\n",
    "        u[:,-1] = u[:,-2]\n",
    "        v[0,:] = v[1,:]\n",
    "        v[:,0] = v[:,1]\n",
    "        v[-1,:] = v[-2,:]\n",
    "        v[:,-1] = v[:,-2]\n",
    "    return u,v"
   ]
  },
  {
   "cell_type": "code",
   "execution_count": 5,
   "metadata": {
    "collapsed": false
   },
   "outputs": [],
   "source": [
    "Uf, Vf = ftcs(Ui,Vi, nt,n, dt, dh,Du, Dv, F, k)"
   ]
  },
  {
   "cell_type": "code",
   "execution_count": 7,
   "metadata": {
    "collapsed": false
   },
   "outputs": [
    {
     "data": {
      "text/plain": [
       "array([ 0.92469521,  0.85013834,  0.66815621,  0.90196481,  0.9039502 ])"
      ]
     },
     "execution_count": 7,
     "metadata": {},
     "output_type": "execute_result"
    }
   ],
   "source": [
    "Uf[100,::40]"
   ]
  },
  {
   "cell_type": "code",
   "execution_count": null,
   "metadata": {
    "collapsed": true
   },
   "outputs": [],
   "source": []
  }
 ],
 "metadata": {
  "anaconda-cloud": {},
  "kernelspec": {
   "display_name": "Python [Root]",
   "language": "python",
   "name": "Python [Root]"
  },
  "language_info": {
   "codemirror_mode": {
    "name": "ipython",
    "version": 3
   },
   "file_extension": ".py",
   "mimetype": "text/x-python",
   "name": "python",
   "nbconvert_exporter": "python",
   "pygments_lexer": "ipython3",
   "version": "3.5.2"
  }
 },
 "nbformat": 4,
 "nbformat_minor": 0
}
