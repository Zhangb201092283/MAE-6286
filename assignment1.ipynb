{
 "cells": [
  {
   "cell_type": "code",
   "execution_count": 3,
   "metadata": {
    "collapsed": true
   },
   "outputs": [],
   "source": [
    "import numpy"
   ]
  },
  {
   "cell_type": "code",
   "execution_count": 5,
   "metadata": {
    "collapsed": true
   },
   "outputs": [],
   "source": [
    "array43 = numpy.linspace(4,23,43)"
   ]
  },
  {
   "cell_type": "code",
   "execution_count": 6,
   "metadata": {
    "collapsed": false
   },
   "outputs": [
    {
     "name": "stdout",
     "output_type": "stream",
     "text": [
      "4.0\n",
      "4.45238095238\n",
      "4.90476190476\n",
      "5.35714285714\n",
      "5.80952380952\n",
      "6.2619047619\n",
      "6.71428571429\n",
      "7.16666666667\n",
      "7.61904761905\n",
      "8.07142857143\n",
      "8.52380952381\n",
      "8.97619047619\n",
      "9.42857142857\n",
      "9.88095238095\n",
      "10.3333333333\n",
      "10.7857142857\n",
      "11.2380952381\n",
      "11.6904761905\n",
      "12.1428571429\n",
      "12.5952380952\n",
      "13.0476190476\n",
      "13.5\n",
      "13.9523809524\n",
      "14.4047619048\n",
      "14.8571428571\n",
      "15.3095238095\n",
      "15.7619047619\n",
      "16.2142857143\n",
      "16.6666666667\n",
      "17.119047619\n",
      "17.5714285714\n",
      "18.0238095238\n",
      "18.4761904762\n",
      "18.9285714286\n",
      "19.380952381\n",
      "19.8333333333\n",
      "20.2857142857\n",
      "20.7380952381\n",
      "21.1904761905\n",
      "21.6428571429\n",
      "22.0952380952\n",
      "22.5476190476\n",
      "23.0\n"
     ]
    }
   ],
   "source": [
    "for i in array43 : print(i)"
   ]
  },
  {
   "cell_type": "code",
   "execution_count": 7,
   "metadata": {
    "collapsed": false
   },
   "outputs": [
    {
     "name": "stdout",
     "output_type": "stream",
     "text": [
      "6.2619047619\n"
     ]
    }
   ],
   "source": [
    "print(array43[5])"
   ]
  },
  {
   "cell_type": "markdown",
   "metadata": {},
   "source": [
    "LINSPACE"
   ]
  },
  {
   "cell_type": "code",
   "execution_count": 8,
   "metadata": {
    "collapsed": true
   },
   "outputs": [],
   "source": [
    "ones_array = numpy.ones( (5,17) )"
   ]
  },
  {
   "cell_type": "code",
   "execution_count": 9,
   "metadata": {
    "collapsed": true
   },
   "outputs": [],
   "source": [
    "zeros_array = numpy.zeros( ones_array.shape )"
   ]
  },
  {
   "cell_type": "code",
   "execution_count": 10,
   "metadata": {
    "collapsed": false
   },
   "outputs": [
    {
     "name": "stdout",
     "output_type": "stream",
     "text": [
      "[[ 0.  0.  0.  0.  0.  0.  0.  0.  0.  0.  0.  0.  0.  0.  0.  0.  0.]\n",
      " [ 0.  0.  0.  0.  0.  0.  0.  0.  0.  0.  0.  0.  0.  0.  0.  0.  0.]\n",
      " [ 0.  0.  0.  0.  0.  0.  0.  0.  0.  0.  0.  0.  0.  0.  0.  0.  0.]\n",
      " [ 0.  0.  0.  0.  0.  0.  0.  0.  0.  0.  0.  0.  0.  0.  0.  0.  0.]\n",
      " [ 0.  0.  0.  0.  0.  0.  0.  0.  0.  0.  0.  0.  0.  0.  0.  0.  0.]]\n"
     ]
    }
   ],
   "source": [
    "print(zeros_array)"
   ]
  },
  {
   "cell_type": "markdown",
   "metadata": {},
   "source": [
    "ARREY DIMENSIONS"
   ]
  },
  {
   "cell_type": "code",
   "execution_count": 11,
   "metadata": {
    "collapsed": true
   },
   "outputs": [],
   "source": [
    "p = 7.0"
   ]
  },
  {
   "cell_type": "code",
   "execution_count": 12,
   "metadata": {
    "collapsed": true
   },
   "outputs": [],
   "source": [
    "r= numpy.array([11.2, 4.7, 6.6])"
   ]
  },
  {
   "cell_type": "code",
   "execution_count": 14,
   "metadata": {
    "collapsed": true
   },
   "outputs": [],
   "source": [
    "from math import sin"
   ]
  },
  {
   "cell_type": "code",
   "execution_count": 15,
   "metadata": {
    "collapsed": false
   },
   "outputs": [
    {
     "name": "stdout",
     "output_type": "stream",
     "text": [
      "0.20030150930292323\n",
      "0.9900910096418035\n",
      "0.6645423764180451\n"
     ]
    }
   ],
   "source": [
    "for i in r : print(sin(p/i)**3)"
   ]
  },
  {
   "cell_type": "markdown",
   "metadata": {},
   "source": [
    "ARRAY TRIGONOMETRY"
   ]
  },
  {
   "cell_type": "code",
   "execution_count": 16,
   "metadata": {
    "collapsed": true
   },
   "outputs": [],
   "source": [
    "import numpy \n",
    "from matplotlib import pyplot\n",
    "%matplotlib inline"
   ]
  },
  {
   "cell_type": "code",
   "execution_count": 17,
   "metadata": {
    "collapsed": true
   },
   "outputs": [],
   "source": [
    "T = 5.0\n",
    "dt = 0.1\n",
    "N = int(T/dt)+1\n",
    "t = numpy.linspace(0.0, T, N)"
   ]
  },
  {
   "cell_type": "code",
   "execution_count": 19,
   "metadata": {
    "collapsed": true
   },
   "outputs": [],
   "source": [
    "mp0=100.\n",
    "m = numpy.array([mp0])\n",
    "mp = numpy.zeros(N)\n",
    "mp[0] = mp0"
   ]
  },
  {
   "cell_type": "code",
   "execution_count": 20,
   "metadata": {
    "collapsed": true
   },
   "outputs": [],
   "source": [
    "mpv=20."
   ]
  },
  {
   "cell_type": "code",
   "execution_count": 24,
   "metadata": {
    "collapsed": true
   },
   "outputs": [],
   "source": [
    "for n in range(1,N):\n",
    "    m = m - dt*mpv\n",
    "    mp[n] = m[0]"
   ]
  },
  {
   "cell_type": "code",
   "execution_count": 26,
   "metadata": {
    "collapsed": false
   },
   "outputs": [
    {
     "data": {
      "image/png": "[encoded data removed]",
      "text/plain": [
       "<matplotlib.figure.Figure at 0x10c42a198>"
      ]
     },
     "metadata": {},
     "output_type": "display_data"
    }
   ],
   "source": [
    "pyplot.figure(figsize=(10,4))   #set plot size\n",
    "pyplot.ylim(10,100)             #y-axis plot limits\n",
    "pyplot.tick_params(axis='both', labelsize=14) #increase font size for ticks\n",
    "pyplot.xlabel('t', fontsize=14) #x label\n",
    "pyplot.ylabel('mp', fontsize=14) #y label\n",
    "pyplot.plot(t,mp, 'k-');"
   ]
  },
  {
   "cell_type": "code",
   "execution_count": 32,
   "metadata": {
    "collapsed": true
   },
   "outputs": [],
   "source": [
    "t0=0"
   ]
  },
  {
   "cell_type": "code",
   "execution_count": 33,
   "metadata": {
    "collapsed": true
   },
   "outputs": [],
   "source": [
    "mp0=100.\n",
    "m = numpy.array([mp0,t0])"
   ]
  },
  {
   "cell_type": "code",
   "execution_count": 38,
   "metadata": {
    "collapsed": true
   },
   "outputs": [],
   "source": [
    "mpv=-20.\n",
    "for n in range(1,N):\n",
    "    m = m + dt*numpy.array([mpv, dt])\n",
    "    mp[n] = m[0]"
   ]
  },
  {
   "cell_type": "code",
   "execution_count": 40,
   "metadata": {
    "collapsed": true
   },
   "outputs": [],
   "source": [
    "m = numpy.array([mp0,t0])"
   ]
  },
  {
   "cell_type": "code",
   "execution_count": 44,
   "metadata": {
    "collapsed": true
   },
   "outputs": [],
   "source": [
    "t=0"
   ]
  },
  {
   "cell_type": "code",
   "execution_count": 61,
   "metadata": {
    "collapsed": false
   },
   "outputs": [
    {
     "name": "stdout",
     "output_type": "stream",
     "text": [
      "36.0 3.2000000000000015\n"
     ]
    }
   ],
   "source": [
    "t=0\n",
    "m=mp0\n",
    "for n in range(1,N):\n",
    "    m = m + dt*mpv\n",
    "    t=t+dt  \n",
    "    mp[n] = m\n",
    "    if t>=3.15 and t<=3.25 :print(m,t)"
   ]
  },
  {
   "cell_type": "code",
   "execution_count": 71,
   "metadata": {
    "collapsed": false
   },
   "outputs": [
    {
     "name": "stdout",
     "output_type": "stream",
     "text": [
      "0.0 305.807976545 4.999999999999998\n"
     ]
    }
   ],
   "source": [
    "t=0\n",
    "m=mp0\n",
    "vsq=0\n",
    "h=0\n",
    "for n in range(1,N):\n",
    "    m = m + dt*mpv\n",
    "    t=t+dt  \n",
    "    mp[n] = m\n",
    "    vsq=(6500-9.81*(50+mp[n]))/0.06426\n",
    "    v=vsq**0.5\n",
    "print(mp[50],v,t)"
   ]
  },
  {
   "cell_type": "code",
   "execution_count": 72,
   "metadata": {
    "collapsed": false
   },
   "outputs": [
    {
     "name": "stdout",
     "output_type": "stream",
     "text": [
      "3.141592653589793\n"
     ]
    }
   ],
   "source": [
    "print(numpy.pi)"
   ]
  },
  {
   "cell_type": "code",
   "execution_count": 73,
   "metadata": {
    "collapsed": false
   },
   "outputs": [
    {
     "name": "stdout",
     "output_type": "stream",
     "text": [
      "[ 0.   0.1  0.2  0.3  0.4  0.5  0.6  0.7  0.8  0.9  1.   1.1  1.2  1.3  1.4\n",
      "  1.5  1.6  1.7  1.8  1.9  2.   2.1  2.2  2.3  2.4  2.5  2.6  2.7  2.8  2.9\n",
      "  3.   3.1  3.2  3.3  3.4  3.5  3.6  3.7  3.8  3.9  4.   4.1  4.2  4.3  4.4\n",
      "  4.5  4.6  4.7  4.8  4.9  5. ]\n"
     ]
    }
   ],
   "source": [
    "import numpy \n",
    "from matplotlib import pyplot\n",
    "%matplotlib inline\n",
    "\n",
    "T = 5.0\n",
    "dt = 0.1\n",
    "N = int(T/dt)+1\n",
    "t = numpy.linspace(0.0, T, N)\n",
    "\n",
    "print(t)"
   ]
  },
  {
   "cell_type": "code",
   "execution_count": 75,
   "metadata": {
    "collapsed": false
   },
   "outputs": [
    {
     "name": "stdout",
     "output_type": "stream",
     "text": [
      "36.0 [ 0.   0.1  0.2  0.3  0.4  0.5  0.6  0.7  0.8  0.9  1.   1.1  1.2  1.3  1.4\n",
      "  1.5  1.6  1.7  1.8  1.9  2.   2.1  2.2  2.3  2.4  2.5  2.6  2.7  2.8  2.9\n",
      "  3.   3.1  3.2  3.3  3.4  3.5  3.6  3.7  3.8  3.9  4.   4.1  4.2  4.3  4.4\n",
      "  4.5  4.6  4.7  4.8  4.9  5. ]\n"
     ]
    }
   ],
   "source": [
    "mpv=-20.\n",
    "mp0=100.\n",
    "\n",
    "mp = numpy.zeros(N)\n",
    "mp[0] = mp0\n",
    "\n",
    "m=mp0\n",
    "for n in range(1,N):\n",
    "    m = m + dt*mpv  \n",
    "    mp[n] = m\n",
    "    if t[n]>=3.15 and t[n]<=3.25 :print(m,t[n])"
   ]
  },
  {
   "cell_type": "code",
   "execution_count": 76,
   "metadata": {
    "collapsed": false
   },
   "outputs": [
    {
     "name": "stdout",
     "output_type": "stream",
     "text": [
      "36.0 3.2\n"
     ]
    }
   ],
   "source": [
    "mpv=-20.\n",
    "mp0=100.\n",
    "\n",
    "mp = numpy.zeros(N)\n",
    "mp[0] = mp0\n",
    "\n",
    "m=mp0\n",
    "for n in range(1,N):\n",
    "    m = m + dt*mpv  \n",
    "    mp[n] = m\n",
    "    if t[n]>=3.15 and t[n]<=3.25 :print(m,t[n])"
   ]
  },
  {
   "cell_type": "code",
   "execution_count": 77,
   "metadata": {
    "collapsed": false
   },
   "outputs": [
    {
     "name": "stdout",
     "output_type": "stream",
     "text": [
      "3.141592653589793\n"
     ]
    }
   ],
   "source": [
    "print(numpy.pi)"
   ]
  },
  {
   "cell_type": "code",
   "execution_count": 78,
   "metadata": {
    "collapsed": false
   },
   "outputs": [
    {
     "name": "stdout",
     "output_type": "stream",
     "text": [
      "0.7853981633974483\n"
     ]
    }
   ],
   "source": [
    "r = 0.5\n",
    "A = numpy.pi*r**2\n",
    "print(A)"
   ]
  },
  {
   "cell_type": "code",
   "execution_count": null,
   "metadata": {
    "collapsed": true
   },
   "outputs": [],
   "source": []
  }
 ],
 "metadata": {
  "kernelspec": {
   "display_name": "Python [Root]",
   "language": "python",
   "name": "Python [Root]"
  },
  "language_info": {
   "codemirror_mode": {
    "name": "ipython",
    "version": 3
   },
   "file_extension": ".py",
   "mimetype": "text/x-python",
   "name": "python",
   "nbconvert_exporter": "python",
   "pygments_lexer": "ipython3",
   "version": "3.5.2"
  }
 },
 "nbformat": 4,
 "nbformat_minor": 0
}
