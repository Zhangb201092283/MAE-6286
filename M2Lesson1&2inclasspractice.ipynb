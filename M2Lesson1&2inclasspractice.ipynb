{
 "cells": [
  {
   "cell_type": "markdown",
   "metadata": {},
   "source": [
    "Stable function"
   ]
  },
  {
   "cell_type": "code",
   "execution_count": 1,
   "metadata": {
    "collapsed": true
   },
   "outputs": [],
   "source": [
    "import numpy                       \n",
    "from matplotlib import pyplot    \n",
    "%matplotlib inline\n",
    "from matplotlib import rcParams\n",
    "rcParams['font.family'] = 'serif'\n",
    "rcParams['font.size'] = 16"
   ]
  },
  {
   "cell_type": "code",
   "execution_count": 5,
   "metadata": {
    "collapsed": true
   },
   "outputs": [],
   "source": [
    "def linearconv(nx):\n",
    "    \"\"\"Solve the linear convection equation.\n",
    "    \n",
    "    Solves the equation d_t u + c d_x u = 0 where \n",
    "    * the wavespeed c is set to 1\n",
    "    * the domain is x \\in [0, 2]\n",
    "    * 20 timesteps are taken, with \\Delta t = 0.025\n",
    "    * the initial data is the hat function\n",
    "    \n",
    "    Produces a plot of the results\n",
    "    \n",
    "    Parameters\n",
    "    ----------\n",
    "    \n",
    "    nx : integer\n",
    "        number of internal grid points\n",
    "        \n",
    "    Returns\n",
    "    -------\n",
    "    \n",
    "    None : none\n",
    "    \"\"\"\n",
    "    dx = 2/(nx-1)\n",
    "    nt = 20    \n",
    "    c = 1\n",
    "    sigma = .5\n",
    "    dt = sigma*dx \n",
    "    \n",
    "    x = numpy.linspace(0,2,nx)\n",
    "\n",
    "    u = numpy.ones(nx)\n",
    "    lbound = numpy.where(x >= 0.5)\n",
    "    ubound = numpy.where(x <= 1)\n",
    "    u[numpy.intersect1d(lbound, ubound)]=2  \n",
    "\n",
    "    un = numpy.ones(nx) \n",
    "\n",
    "    for n in range(nt): \n",
    "        un = u.copy() \n",
    "        u[1:] = un[1:] -c*dt/dx*(un[1:] -un[0:-1]) \n",
    "        u[0] = 1.0\n",
    "        \n",
    "\n",
    "    pyplot.plot(x, u, color='#003366', ls='--', lw=3)\n",
    "    pyplot.ylim(0,2.5); "
   ]
  },
  {
   "cell_type": "code",
   "execution_count": 15,
   "metadata": {
    "collapsed": false
   },
   "outputs": [
    {
     "data": {
      "image/png": "[encoded data removed]",
      "text/plain": [
       "<matplotlib.figure.Figure at 0x11083a0f0>"
      ]
     },
     "metadata": {},
     "output_type": "display_data"
    }
   ],
   "source": [
    "linearconv(8001)"
   ]
  },
  {
   "cell_type": "markdown",
   "metadata": {},
   "source": [
    "Central difference?"
   ]
  },
  {
   "cell_type": "code",
   "execution_count": 30,
   "metadata": {
    "collapsed": true
   },
   "outputs": [],
   "source": [
    "def linearconv(nx):\n",
    "    \"\"\"Solve the linear convection equation.\n",
    "    \n",
    "    Solves the equation d_t u + c d_x u = 0 where \n",
    "    * the wavespeed c is set to 1\n",
    "    * the domain is x \\in [0, 2]\n",
    "    * 20 timesteps are taken, with \\Delta t = 0.025\n",
    "    * the initial data is the hat function\n",
    "    \n",
    "    Produces a plot of the results\n",
    "    \n",
    "    Parameters\n",
    "    ----------\n",
    "    \n",
    "    nx : integer\n",
    "        number of internal grid points\n",
    "        \n",
    "    Returns\n",
    "    -------\n",
    "    \n",
    "    None : none\n",
    "    \"\"\"\n",
    "    dx = 2/(nx-1)\n",
    "    nt = 20    \n",
    "    c = 1\n",
    "    sigma = .5\n",
    "    dt = sigma*dx \n",
    "    \n",
    "    x = numpy.linspace(0,2,nx)\n",
    "\n",
    "    u = numpy.ones(nx)\n",
    "    lbound = numpy.where(x >= 0.5)\n",
    "    ubound = numpy.where(x <= 1)\n",
    "    u[numpy.intersect1d(lbound, ubound)]=2  \n",
    "\n",
    "    un = numpy.ones(nx) \n",
    "\n",
    "    for n in range(nt): \n",
    "        un = u.copy() \n",
    "        u[1:] = un[1:] -c*dt/dx*(un[2:] -un[0:-1])/2\n",
    "        u[0] = 1.0\n",
    "        \n",
    "\n",
    "    pyplot.plot(x, u, color='#003366', ls='--', lw=3)\n",
    "    pyplot.ylim(0,2.5); "
   ]
  },
  {
   "cell_type": "code",
   "execution_count": 31,
   "metadata": {
    "collapsed": false
   },
   "outputs": [
    {
     "ename": "ValueError",
     "evalue": "operands could not be broadcast together with shapes (79,) (80,) ",
     "output_type": "error",
     "traceback": [
      "\u001b[0;31m---------------------------------------------------------------------------\u001b[0m",
      "\u001b[0;31mValueError\u001b[0m                                Traceback (most recent call last)",
      "\u001b[0;32m<ipython-input-31-41ab96689f69>\u001b[0m in \u001b[0;36m<module>\u001b[0;34m()\u001b[0m\n\u001b[0;32m----> 1\u001b[0;31m \u001b[0mlinearconv\u001b[0m\u001b[0;34m(\u001b[0m\u001b[0;36m81\u001b[0m\u001b[0;34m)\u001b[0m\u001b[0;34m\u001b[0m\u001b[0m\n\u001b[0m",
      "\u001b[0;32m<ipython-input-30-e781edd6ea0b>\u001b[0m in \u001b[0;36mlinearconv\u001b[0;34m(nx)\u001b[0m\n\u001b[1;32m     38\u001b[0m     \u001b[0;32mfor\u001b[0m \u001b[0mn\u001b[0m \u001b[0;32min\u001b[0m \u001b[0mrange\u001b[0m\u001b[0;34m(\u001b[0m\u001b[0mnt\u001b[0m\u001b[0;34m)\u001b[0m\u001b[0;34m:\u001b[0m\u001b[0;34m\u001b[0m\u001b[0m\n\u001b[1;32m     39\u001b[0m         \u001b[0mun\u001b[0m \u001b[0;34m=\u001b[0m \u001b[0mu\u001b[0m\u001b[0;34m.\u001b[0m\u001b[0mcopy\u001b[0m\u001b[0;34m(\u001b[0m\u001b[0;34m)\u001b[0m\u001b[0;34m\u001b[0m\u001b[0m\n\u001b[0;32m---> 40\u001b[0;31m         \u001b[0mu\u001b[0m\u001b[0;34m[\u001b[0m\u001b[0;36m1\u001b[0m\u001b[0;34m:\u001b[0m\u001b[0;34m-\u001b[0m\u001b[0;36m2\u001b[0m\u001b[0;34m]\u001b[0m \u001b[0;34m=\u001b[0m \u001b[0mun\u001b[0m\u001b[0;34m[\u001b[0m\u001b[0;36m1\u001b[0m\u001b[0;34m:\u001b[0m\u001b[0;34m-\u001b[0m\u001b[0;36m2\u001b[0m\u001b[0;34m]\u001b[0m \u001b[0;34m-\u001b[0m\u001b[0mc\u001b[0m\u001b[0;34m*\u001b[0m\u001b[0mdt\u001b[0m\u001b[0;34m/\u001b[0m\u001b[0mdx\u001b[0m\u001b[0;34m*\u001b[0m\u001b[0;34m(\u001b[0m\u001b[0mun\u001b[0m\u001b[0;34m[\u001b[0m\u001b[0;36m2\u001b[0m\u001b[0;34m:\u001b[0m\u001b[0;34m]\u001b[0m \u001b[0;34m-\u001b[0m\u001b[0mun\u001b[0m\u001b[0;34m[\u001b[0m\u001b[0;36m0\u001b[0m\u001b[0;34m:\u001b[0m\u001b[0;34m-\u001b[0m\u001b[0;36m1\u001b[0m\u001b[0;34m]\u001b[0m\u001b[0;34m)\u001b[0m\u001b[0;34m/\u001b[0m\u001b[0;36m2\u001b[0m\u001b[0;34m\u001b[0m\u001b[0m\n\u001b[0m\u001b[1;32m     41\u001b[0m         \u001b[0mu\u001b[0m\u001b[0;34m[\u001b[0m\u001b[0;36m0\u001b[0m\u001b[0;34m]\u001b[0m \u001b[0;34m=\u001b[0m \u001b[0;36m1.0\u001b[0m\u001b[0;34m\u001b[0m\u001b[0m\n\u001b[1;32m     42\u001b[0m \u001b[0;34m\u001b[0m\u001b[0m\n",
      "\u001b[0;31mValueError\u001b[0m: operands could not be broadcast together with shapes (79,) (80,) "
     ]
    }
   ],
   "source": [
    "linearconv(81)"
   ]
  },
  {
   "cell_type": "code",
   "execution_count": null,
   "metadata": {
    "collapsed": true
   },
   "outputs": [],
   "source": []
  }
 ],
 "metadata": {
  "anaconda-cloud": {},
  "kernelspec": {
   "display_name": "Python [Root]",
   "language": "python",
   "name": "Python [Root]"
  },
  "language_info": {
   "codemirror_mode": {
    "name": "ipython",
    "version": 3
   },
   "file_extension": ".py",
   "mimetype": "text/x-python",
   "name": "python",
   "nbconvert_exporter": "python",
   "pygments_lexer": "ipython3",
   "version": "3.5.2"
  }
 },
 "nbformat": 4,
 "nbformat_minor": 0
}
