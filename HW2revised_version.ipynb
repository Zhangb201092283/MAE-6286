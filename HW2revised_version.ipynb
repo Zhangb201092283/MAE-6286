{
 "cells": [
  {
   "cell_type": "code",
   "execution_count": 1,
   "metadata": {
    "collapsed": true
   },
   "outputs": [],
   "source": [
    "import numpy\n",
    "import sympy\n",
    "from matplotlib import pyplot\n",
    "%matplotlib inline\n",
    "from matplotlib import rcParams\n",
    "rcParams['font.family'] = 'serif'\n",
    "rcParams['font.size'] = 16"
   ]
  },
  {
   "cell_type": "code",
   "execution_count": 20,
   "metadata": {
    "collapsed": false
   },
   "outputs": [
    {
     "name": "stdout",
     "output_type": "stream",
     "text": [
      "50\n"
     ]
    }
   ],
   "source": [
    "Vm = 136 #constants\n",
    "L = 11\n",
    "rhom = 250\n",
    "nx = 51\n",
    "dx = L/(nx-1)\n",
    "dt = 0.001\n",
    "T = 3.0\n",
    "nt = int(T/60/dt)\n",
    "x = numpy.linspace(0,L,nx)\n",
    "\n",
    "rho = numpy.ones(nx) #arrays\n",
    "rhon = numpy.ones(nx)\n",
    "rho = numpy.ones(nx)*20\n",
    "rho[10:20] = 50\n",
    "\n",
    "print(nt)"
   ]
  },
  {
   "cell_type": "code",
   "execution_count": 18,
   "metadata": {
    "collapsed": true
   },
   "outputs": [],
   "source": [
    "for n in range(1, nt):  \n",
    "    rhon = rho.copy() \n",
    "    rho[1:] = rhon[1:]-Vm*dt/dx*(rhon[1:]-rhon[0:-1])+Vm/rhom*dt/dx*(rhon[1:]**2-rhon[0:-1]**2)\n",
    "    rho[0] = 20"
   ]
  },
  {
   "cell_type": "code",
   "execution_count": 16,
   "metadata": {
    "collapsed": true
   },
   "outputs": [],
   "source": [
    "def Vminandavg(rhon, Vm, rhom):\n",
    "    V = numpy.ones(nx)\n",
    "    V = Vm*(1-rho/rhom)\n",
    "    print(\"Avg V is\",numpy.average(V)/3.6,\"m/s\")\n",
    "    n = numpy.min(V)/3.6\n",
    "    print(\"Min V is\",n,\"m/s\")"
   ]
  },
  {
   "cell_type": "code",
   "execution_count": 19,
   "metadata": {
    "collapsed": false
   },
   "outputs": [
    {
     "name": "stdout",
     "output_type": "stream",
     "text": [
      "Avg V is 33.8666666667 m/s\n",
      "Min V is 30.2222222222 m/s\n"
     ]
    }
   ],
   "source": [
    "Vminandavg(rhon, Vm, rhom)"
   ]
  },
  {
   "cell_type": "code",
   "execution_count": null,
   "metadata": {
    "collapsed": true
   },
   "outputs": [],
   "source": []
  }
 ],
 "metadata": {
  "anaconda-cloud": {},
  "kernelspec": {
   "display_name": "Python [Root]",
   "language": "python",
   "name": "Python [Root]"
  },
  "language_info": {
   "codemirror_mode": {
    "name": "ipython",
    "version": 3
   },
   "file_extension": ".py",
   "mimetype": "text/x-python",
   "name": "python",
   "nbconvert_exporter": "python",
   "pygments_lexer": "ipython3",
   "version": "3.5.2"
  }
 },
 "nbformat": 4,
 "nbformat_minor": 0
}
