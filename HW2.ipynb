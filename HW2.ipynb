{
 "cells": [
  {
   "cell_type": "markdown",
   "metadata": {},
   "source": [
    "SYMPY"
   ]
  },
  {
   "cell_type": "code",
   "execution_count": 1,
   "metadata": {
    "collapsed": true
   },
   "outputs": [],
   "source": [
    "import numpy\n",
    "import sympy\n",
    "from matplotlib import pyplot\n",
    "%matplotlib inline\n",
    "from matplotlib import rcParams\n",
    "rcParams['font.family'] = 'serif'\n",
    "rcParams['font.size'] = 16"
   ]
  },
  {
   "cell_type": "code",
   "execution_count": 2,
   "metadata": {
    "collapsed": true
   },
   "outputs": [],
   "source": [
    "from sympy import init_printing\n",
    "init_printing()"
   ]
  },
  {
   "cell_type": "code",
   "execution_count": 3,
   "metadata": {
    "collapsed": true
   },
   "outputs": [],
   "source": [
    "x= sympy.symbols('x')"
   ]
  },
  {
   "cell_type": "code",
   "execution_count": 4,
   "metadata": {
    "collapsed": false
   },
   "outputs": [
    {
     "data": {
      "image/png": "[encoded data removed]",
      "text/latex": [
       "$$x$$"
      ],
      "text/plain": [
       "x"
      ]
     },
     "execution_count": 4,
     "metadata": {},
     "output_type": "execute_result"
    }
   ],
   "source": [
    "x"
   ]
  },
  {
   "cell_type": "code",
   "execution_count": 5,
   "metadata": {
    "collapsed": false
   },
   "outputs": [
    {
     "data": {
      "image/png": "[encoded data removed]",
      "text/latex": [
       "$$\\frac{\\cos^{2}{\\left (x \\right )}}{4 x^{5}} e^{- x} \\sin^{3}{\\left (x \\right )}$$"
      ],
      "text/plain": [
       " -x    3       2   \n",
       "ℯ  ⋅sin (x)⋅cos (x)\n",
       "───────────────────\n",
       "           5       \n",
       "        4⋅x        "
      ]
     },
     "execution_count": 5,
     "metadata": {},
     "output_type": "execute_result"
    }
   ],
   "source": [
    "Result = sympy.cos(x)**2*sympy.sin(x)**3/(4*x**5*sympy.exp(x))\n",
    "Result"
   ]
  },
  {
   "cell_type": "code",
   "execution_count": 6,
   "metadata": {
    "collapsed": false
   },
   "outputs": [
    {
     "data": {
      "image/png": "[encoded data removed]",
      "text/latex": [
       "$$- \\frac{\\sin^{4}{\\left (x \\right )}}{2 x^{5}} e^{- x} \\cos{\\left (x \\right )} - \\frac{\\cos^{2}{\\left (x \\right )}}{4 x^{5}} e^{- x} \\sin^{3}{\\left (x \\right )} + \\frac{3 e^{- x}}{4 x^{5}} \\sin^{2}{\\left (x \\right )} \\cos^{3}{\\left (x \\right )} - \\frac{5 e^{- x}}{4 x^{6}} \\sin^{3}{\\left (x \\right )} \\cos^{2}{\\left (x \\right )}$$"
      ],
      "text/plain": [
       "   -x    4              -x    3       2         -x    2       3         -x    \n",
       "  ℯ  ⋅sin (x)⋅cos(x)   ℯ  ⋅sin (x)⋅cos (x)   3⋅ℯ  ⋅sin (x)⋅cos (x)   5⋅ℯ  ⋅sin\n",
       "- ────────────────── - ─────────────────── + ───────────────────── - ─────────\n",
       "            5                     5                      5                    \n",
       "         2⋅x                   4⋅x                    4⋅x                     \n",
       "\n",
       "3       2   \n",
       " (x)⋅cos (x)\n",
       "────────────\n",
       "   6        \n",
       "4⋅x         "
      ]
     },
     "execution_count": 6,
     "metadata": {},
     "output_type": "execute_result"
    }
   ],
   "source": [
    "Resultprime = Result.diff(x)\n",
    "Resultprime"
   ]
  },
  {
   "cell_type": "code",
   "execution_count": 7,
   "metadata": {
    "collapsed": false
   },
   "outputs": [
    {
     "name": "stdout",
     "output_type": "stream",
     "text": [
      "-exp(-x)*sin(x)**4*cos(x)/(2*x**5) - exp(-x)*sin(x)**3*cos(x)**2/(4*x**5) + 3*exp(-x)*sin(x)**2*cos(x)**3/(4*x**5) - 5*exp(-x)*sin(x)**3*cos(x)**2/(4*x**6)\n"
     ]
    }
   ],
   "source": [
    "from sympy.utilities.lambdify import lambdify\n",
    "u = Resultprime\n",
    "print(u)"
   ]
  },
  {
   "cell_type": "code",
   "execution_count": 8,
   "metadata": {
    "collapsed": false
   },
   "outputs": [
    {
     "name": "stdout",
     "output_type": "stream",
     "text": [
      "The value of u at x=2.2 is -0.00026648912670920613.\n"
     ]
    }
   ],
   "source": [
    "u_lamb = lambdify((x), u)\n",
    "print(\"The value of u at x=2.2 is {}.\".format(u_lamb(2.2)))"
   ]
  },
  {
   "cell_type": "markdown",
   "metadata": {},
   "source": [
    "traffic flow"
   ]
  },
  {
   "cell_type": "code",
   "execution_count": 150,
   "metadata": {
    "collapsed": false
   },
   "outputs": [
    {
     "name": "stdout",
     "output_type": "stream",
     "text": [
      "50\n"
     ]
    }
   ],
   "source": [
    "Vm = 80 #constants\n",
    "L = 11\n",
    "rhom = 250\n",
    "nx = 51\n",
    "dx = L/(nx-1)\n",
    "dt = 0.001\n",
    "T = 3.0\n",
    "nt = int(T/60/dt)\n",
    "x = numpy.linspace(0,L,nx)\n",
    "\n",
    "rho = numpy.ones(nx) #arrays\n",
    "rhon = numpy.ones(nx)\n",
    "rho = numpy.ones(nx)*10\n",
    "rho[10:20] = 50\n",
    "\n",
    "print(nt)"
   ]
  },
  {
   "cell_type": "code",
   "execution_count": 155,
   "metadata": {
    "collapsed": true
   },
   "outputs": [],
   "source": [
    "def Vminandavg(rho, Vm, rhom):\n",
    "    V = numpy.ones(nx)\n",
    "    V = Vm*(1-rho/rhom)\n",
    "    print(\"total V\",numpy.sum(V),\"Avg V\",numpy.sum(V)/nx)\n",
    "    n = numpy.min(V)\n",
    "    print(n,\"km/h\")\n",
    "    n = n/3.6\n",
    "    print(n,\"m/s\")"
   ]
  },
  {
   "cell_type": "code",
   "execution_count": 156,
   "metadata": {
    "collapsed": false
   },
   "outputs": [
    {
     "name": "stdout",
     "output_type": "stream",
     "text": [
      "total V 3788.8 Avg V 74.2901960784\n",
      "64.0 km/h\n",
      "17.7777777778 m/s\n"
     ]
    }
   ],
   "source": [
    "Vminandavg(rho0, Vm, rhom)"
   ]
  },
  {
   "cell_type": "markdown",
   "metadata": {},
   "source": [
    "minimum velocity at time t = 0"
   ]
  },
  {
   "cell_type": "code",
   "execution_count": 153,
   "metadata": {
    "collapsed": false
   },
   "outputs": [
    {
     "name": "stdout",
     "output_type": "stream",
     "text": [
      "[ 10.  10.  10.  10.  10.  10.  10.  10.  10.  10.  50.  50.  50.  50.  50.\n",
      "  50.  50.  50.  50.  50.  10.  10.  10.  10.  10.  10.  10.  10.  10.  10.\n",
      "  10.  10.  10.  10.  10.  10.  10.  10.  10.  10.  10.  10.  10.  10.  10.\n",
      "  10.  10.  10.  10.  10.  10.]\n"
     ]
    }
   ],
   "source": [
    "print(rho)"
   ]
  },
  {
   "cell_type": "code",
   "execution_count": 154,
   "metadata": {
    "collapsed": false
   },
   "outputs": [],
   "source": [
    "for n in range(1, nt):  \n",
    "    rhon = rho.copy() \n",
    "    rho[1:] = rhon[1:]-Vm*dt/dx*(rhon[1:]-rhon[0:-1])+Vm/rhom*dt/dx*(rhon[1:]**2-rhon[0:-1]**2)\n",
    "    rho[0] = 10"
   ]
  },
  {
   "cell_type": "code",
   "execution_count": 139,
   "metadata": {
    "collapsed": false
   },
   "outputs": [
    {
     "data": {
      "image/png": "[encoded data removed]",
      "text/plain": [
       "<matplotlib.figure.Figure at 0x10f98f438>"
      ]
     },
     "metadata": {},
     "output_type": "display_data"
    }
   ],
   "source": [
    "pyplot.plot(x, rho, color='#003366', ls='--', lw=3)\n",
    "pyplot.ylim(0,50);"
   ]
  },
  {
   "cell_type": "code",
   "execution_count": 149,
   "metadata": {
    "collapsed": false
   },
   "outputs": [
    {
     "name": "stdout",
     "output_type": "stream",
     "text": [
      "909.999813519 17.8431335984\n"
     ]
    }
   ],
   "source": []
  },
  {
   "cell_type": "code",
   "execution_count": 144,
   "metadata": {
    "collapsed": false
   },
   "outputs": [
    {
     "name": "stdout",
     "output_type": "stream",
     "text": [
      "[ 76.8         76.8         76.8         76.8         76.8         76.8\n",
      "  76.8         76.8         76.8         76.8         76.8         76.8\n",
      "  76.8         76.8         76.8         76.8         76.8         76.79999999\n",
      "  76.79999995  76.79999973  76.79999868  76.79999429  76.79997749\n",
      "  76.79991853  76.79972768  76.7991544   76.79754823  76.79333072\n",
      "  76.78290668  76.75856622  76.70472809  76.59182817  76.36788412\n",
      "  75.95087676  75.23312983  74.12021734  72.61956629  70.92727471\n",
      "  69.3845586   68.2821596   67.71144002  67.59594581  67.80288534\n",
      "  68.21534106  68.7511812   69.3575938   70.00115409  70.6600242\n",
      "  71.31898807  71.96655396  72.59334456]\n",
      "67.595945813 km/h\n",
      "18.7766516147 m/s\n"
     ]
    }
   ],
   "source": [
    "Vmin(rho, Vm, rhom)"
   ]
  },
  {
   "cell_type": "code",
   "execution_count": null,
   "metadata": {
    "collapsed": true
   },
   "outputs": [],
   "source": []
  }
 ],
 "metadata": {
  "anaconda-cloud": {},
  "kernelspec": {
   "display_name": "Python [Root]",
   "language": "python",
   "name": "Python [Root]"
  },
  "language_info": {
   "codemirror_mode": {
    "name": "ipython",
    "version": 3
   },
   "file_extension": ".py",
   "mimetype": "text/x-python",
   "name": "python",
   "nbconvert_exporter": "python",
   "pygments_lexer": "ipython3",
   "version": "3.5.2"
  }
 },
 "nbformat": 4,
 "nbformat_minor": 0
}
