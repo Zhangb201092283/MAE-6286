{
 "cells": [
  {
   "cell_type": "markdown",
   "metadata": {},
   "source": [
    "LINSPACE"
   ]
  },
  {
   "cell_type": "code",
   "execution_count": 1,
   "metadata": {
    "collapsed": false
   },
   "outputs": [
    {
     "name": "stdout",
     "output_type": "stream",
     "text": [
      "6.2619047619\n"
     ]
    }
   ],
   "source": [
    "import numpy\n",
    "array43 = numpy.linspace(4,23,43)\n",
    "print(array43[5])"
   ]
  },
  {
   "cell_type": "markdown",
   "metadata": {},
   "source": [
    "ARREY DIMENSIONS"
   ]
  },
  {
   "cell_type": "code",
   "execution_count": 2,
   "metadata": {
    "collapsed": false
   },
   "outputs": [
    {
     "name": "stdout",
     "output_type": "stream",
     "text": [
      "[[ 0.  0.  0.  0.  0.  0.  0.  0.  0.  0.  0.  0.  0.  0.  0.  0.  0.]\n",
      " [ 0.  0.  0.  0.  0.  0.  0.  0.  0.  0.  0.  0.  0.  0.  0.  0.  0.]\n",
      " [ 0.  0.  0.  0.  0.  0.  0.  0.  0.  0.  0.  0.  0.  0.  0.  0.  0.]\n",
      " [ 0.  0.  0.  0.  0.  0.  0.  0.  0.  0.  0.  0.  0.  0.  0.  0.  0.]\n",
      " [ 0.  0.  0.  0.  0.  0.  0.  0.  0.  0.  0.  0.  0.  0.  0.  0.  0.]]\n"
     ]
    }
   ],
   "source": [
    "ones_array = numpy.ones( (5,17) )\n",
    "zeros_array = numpy.zeros( ones_array.shape )\n",
    "print(zeros_array)"
   ]
  },
  {
   "cell_type": "markdown",
   "metadata": {},
   "source": [
    "ARRAY TRIGONOMETRY"
   ]
  },
  {
   "cell_type": "code",
   "execution_count": 3,
   "metadata": {
    "collapsed": false
   },
   "outputs": [
    {
     "name": "stdout",
     "output_type": "stream",
     "text": [
      "0.20030150930292323\n",
      "0.9900910096418035\n",
      "0.6645423764180451\n"
     ]
    }
   ],
   "source": [
    "p = 7.0\n",
    "r= numpy.array([11.2, 4.7, 6.6])\n",
    "from math import sin\n",
    "for i in r : print(sin(p/i)**3)"
   ]
  },
  {
   "cell_type": "code",
   "execution_count": 5,
   "metadata": {
    "collapsed": false
   },
   "outputs": [
    {
     "name": "stdout",
     "output_type": "stream",
     "text": [
      "[ 0.   0.1  0.2  0.3  0.4  0.5  0.6  0.7  0.8  0.9  1.   1.1  1.2  1.3  1.4\n",
      "  1.5  1.6  1.7  1.8  1.9  2.   2.1  2.2  2.3  2.4  2.5  2.6  2.7  2.8  2.9\n",
      "  3.   3.1  3.2  3.3  3.4  3.5  3.6  3.7  3.8  3.9  4.   4.1  4.2  4.3  4.4\n",
      "  4.5  4.6  4.7  4.8  4.9  5. ]\n"
     ]
    }
   ],
   "source": [
    "import numpy \n",
    "from matplotlib import pyplot\n",
    "%matplotlib inline\n",
    "\n",
    "T = 5.0\n",
    "dt = 0.1\n",
    "N = int(T/dt)+1\n",
    "t = numpy.linspace(0.0, T, N)\n",
    "\n",
    "print(t)"
   ]
  },
  {
   "cell_type": "code",
   "execution_count": 6,
   "metadata": {
    "collapsed": false
   },
   "outputs": [
    {
     "name": "stdout",
     "output_type": "stream",
     "text": [
      "36.0 3.2\n"
     ]
    }
   ],
   "source": [
    "mpv=-20.\n",
    "mp0=100.\n",
    "\n",
    "mp = numpy.zeros(N)\n",
    "mp[0] = mp0\n",
    "\n",
    "m=mp0\n",
    "for n in range(1,N):\n",
    "    m = m + dt*mpv  \n",
    "    mp[n] = m\n",
    "    if t[n]>=3.15 and t[n]<=3.25 :print(m,t[n])"
   ]
  },
  {
   "cell_type": "code",
   "execution_count": 10,
   "metadata": {
    "collapsed": true
   },
   "outputs": [],
   "source": [
    "h0 = 0.  #?\n",
    "v0 = 0.  #?\n",
    "ms = 50.\n",
    "g  = 9.81\n",
    "den = 1.091\n",
    "r = 0.5\n",
    "A = numpy.pi*r**2\n",
    "ve=325\n",
    "CD=0.15\n",
    "\n",
    "u = numpy.array([h0, v0])\n",
    "\n",
    "h = numpy.zeros(N)\n",
    "h[0] = h0 "
   ]
  },
  {
   "cell_type": "code",
   "execution_count": 34,
   "metadata": {
    "collapsed": false
   },
   "outputs": [
    {
     "name": "stdout",
     "output_type": "stream",
     "text": [
      "[ 0.          3.41089189] 0.1\n",
      "[ 0.34108919  6.88143458] 0.2\n",
      "[  1.02923265  10.41221012] 0.3\n",
      "[  2.07045366  14.00376839] 0.4\n",
      "[  3.4708305   17.65662356] 0.5\n",
      "[  5.23649285  21.37125031] 0.6\n",
      "[  7.37361789  25.14807982] 0.7\n",
      "[  9.88842587  28.9874955 ] 0.8\n",
      "[ 12.78717542  32.88982851] 0.9\n",
      "[ 16.07615827  36.85535289] 1.0\n",
      "[ 19.76169356  40.88428061] 1.1\n",
      "[ 23.85012162  44.97675612] 1.2\n",
      "[ 28.34779723  49.13285077] 1.3\n",
      "[ 33.26108231  53.35255685] 1.4\n",
      "[ 38.59633799  57.63578135] 1.5\n",
      "[ 44.35991613  61.98233939] 1.6\n",
      "[ 50.55815007  66.39194738] 1.7\n",
      "[ 57.1973448  70.8642158] 1.8\n",
      "[ 64.28376638  75.39864173] 1.9\n",
      "[ 71.82363056  79.99460099] 2.0\n",
      "[ 79.82309066  84.65134007] 2.1\n",
      "[ 88.28822466  89.36796764] 2.2\n",
      "[ 97.22502143  94.14344586] 2.3\n",
      "[ 106.63936601   98.97658139] 2.4\n",
      "[ 116.53702415  103.86601607] 2.5\n",
      "[ 126.92362576  108.81021748] 2.6\n",
      "[ 137.80464751  113.80746915] 2.7\n",
      "[ 149.18539442  118.85586071] 2.8\n",
      "[ 161.0709805   123.95327781] 2.9\n",
      "[ 173.46630828  129.09739194] 3.0\n",
      "[ 186.37604747  134.28565026] 3.1\n",
      "[ 199.8046125   139.51526534] 3.2\n",
      "[ 213.75613903  144.78320501] 3.3\n",
      "[ 228.23445953  150.08618238] 3.4\n",
      "[ 243.24307777  155.42064595] 3.5\n",
      "[ 258.78514236  160.78277016] 3.6\n",
      "[ 274.86341938  166.16844624] 3.7\n",
      "[ 291.480264    171.57327356] 3.8\n",
      "[ 308.63759136  176.99255165] 3.9\n",
      "[ 326.33684653  182.42127286] 4.0\n",
      "[ 344.57897381  187.85411596] 4.1\n",
      "[ 363.36438541  193.28544072] 4.2\n",
      "[ 382.69292948  198.70928354] 4.3\n",
      "[ 402.56385783  204.11935453] 4.4\n",
      "[ 422.97579329  209.5090359 ] 4.5\n",
      "[ 443.92669688  214.87138208] 4.6\n",
      "[ 465.41383508  220.19912151] 4.7\n",
      "[ 487.43374723  225.48466048] 4.8\n",
      "[ 509.98221328  230.72008905] 4.9\n",
      "[ 533.05422219  235.8971892 ] 5.0\n",
      "[  1.35463079e+03  -7.52046705e-01] 15.8\n",
      "[ 1354.55558819    -1.7331194 ] 15.9\n"
     ]
    }
   ],
   "source": [
    "u = numpy.array([h0, v0])\n",
    "for n in range(1,N):\n",
    "    u = u + dt*numpy.array([u[1], -g+(-mpv*ve-u[1]**2*den*A*CD/2)/(ms+mp[n])])\n",
    "    h[n] = u[0]\n",
    "    if h[n]-h[n-1]>=0:\n",
    "        print(u,t[n])\n",
    "for n in range(1,110):\n",
    "    u = u + dt*numpy.array([u[1], -g-u[1]**2*den*A*CD/2/ms])\n",
    "    if u[1]<=0:\n",
    "        print(u,0.1*n+5)"
   ]
  },
  {
   "cell_type": "code",
   "execution_count": null,
   "metadata": {
    "collapsed": true
   },
   "outputs": [],
   "source": []
  }
 ],
 "metadata": {
  "anaconda-cloud": {},
  "kernelspec": {
   "display_name": "Python [Root]",
   "language": "python",
   "name": "Python [Root]"
  },
  "language_info": {
   "codemirror_mode": {
    "name": "ipython",
    "version": 3
   },
   "file_extension": ".py",
   "mimetype": "text/x-python",
   "name": "python",
   "nbconvert_exporter": "python",
   "pygments_lexer": "ipython3",
   "version": "3.5.2"
  }
 },
 "nbformat": 4,
 "nbformat_minor": 0
}
