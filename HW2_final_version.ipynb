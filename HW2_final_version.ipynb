{
 "cells": [
  {
   "cell_type": "code",
   "execution_count": 1,
   "metadata": {
    "collapsed": true
   },
   "outputs": [],
   "source": [
    "import numpy\n",
    "import sympy\n",
    "from matplotlib import pyplot\n",
    "%matplotlib inline\n",
    "from matplotlib import rcParams\n",
    "rcParams['font.family'] = 'serif'\n",
    "rcParams['font.size'] = 16"
   ]
  },
  {
   "cell_type": "markdown",
   "metadata": {},
   "source": [
    "Sympy"
   ]
  },
  {
   "cell_type": "code",
   "execution_count": 59,
   "metadata": {
    "collapsed": false
   },
   "outputs": [],
   "source": [
    "from sympy import init_printing\n",
    "init_printing()"
   ]
  },
  {
   "cell_type": "code",
   "execution_count": 60,
   "metadata": {
    "collapsed": true
   },
   "outputs": [],
   "source": [
    "x= sympy.symbols('x')"
   ]
  },
  {
   "cell_type": "code",
   "execution_count": 61,
   "metadata": {
    "collapsed": false
   },
   "outputs": [
    {
     "data": {
      "image/png": "[encoded data removed]",
      "text/latex": [
       "$$\\frac{\\cos^{2}{\\left (x \\right )}}{4 x^{5}} e^{- x} \\sin^{3}{\\left (x \\right )}$$"
      ],
      "text/plain": [
       " -x    3       2   \n",
       "ℯ  ⋅sin (x)⋅cos (x)\n",
       "───────────────────\n",
       "           5       \n",
       "        4⋅x        "
      ]
     },
     "execution_count": 61,
     "metadata": {},
     "output_type": "execute_result"
    }
   ],
   "source": [
    "Result = sympy.cos(x)**2*sympy.sin(x)**3/(4*x**5*sympy.exp(x))\n",
    "Result"
   ]
  },
  {
   "cell_type": "code",
   "execution_count": 62,
   "metadata": {
    "collapsed": false
   },
   "outputs": [
    {
     "data": {
      "image/png": "[encoded data removed]",
      "text/latex": [
       "$$- \\frac{\\sin^{4}{\\left (x \\right )}}{2 x^{5}} e^{- x} \\cos{\\left (x \\right )} - \\frac{\\cos^{2}{\\left (x \\right )}}{4 x^{5}} e^{- x} \\sin^{3}{\\left (x \\right )} + \\frac{3 e^{- x}}{4 x^{5}} \\sin^{2}{\\left (x \\right )} \\cos^{3}{\\left (x \\right )} - \\frac{5 e^{- x}}{4 x^{6}} \\sin^{3}{\\left (x \\right )} \\cos^{2}{\\left (x \\right )}$$"
      ],
      "text/plain": [
       "   -x    4              -x    3       2         -x    2       3         -x    \n",
       "  ℯ  ⋅sin (x)⋅cos(x)   ℯ  ⋅sin (x)⋅cos (x)   3⋅ℯ  ⋅sin (x)⋅cos (x)   5⋅ℯ  ⋅sin\n",
       "- ────────────────── - ─────────────────── + ───────────────────── - ─────────\n",
       "            5                     5                      5                    \n",
       "         2⋅x                   4⋅x                    4⋅x                     \n",
       "\n",
       "3       2   \n",
       " (x)⋅cos (x)\n",
       "────────────\n",
       "   6        \n",
       "4⋅x         "
      ]
     },
     "execution_count": 62,
     "metadata": {},
     "output_type": "execute_result"
    }
   ],
   "source": [
    "Resultprime = Result.diff(x)\n",
    "Resultprime"
   ]
  },
  {
   "cell_type": "code",
   "execution_count": 63,
   "metadata": {
    "collapsed": false
   },
   "outputs": [
    {
     "name": "stdout",
     "output_type": "stream",
     "text": [
      "-exp(-x)*sin(x)**4*cos(x)/(2*x**5) - exp(-x)*sin(x)**3*cos(x)**2/(4*x**5) + 3*exp(-x)*sin(x)**2*cos(x)**3/(4*x**5) - 5*exp(-x)*sin(x)**3*cos(x)**2/(4*x**6)\n"
     ]
    }
   ],
   "source": [
    "from sympy.utilities.lambdify import lambdify\n",
    "u = Resultprime\n",
    "print(u)"
   ]
  },
  {
   "cell_type": "code",
   "execution_count": 64,
   "metadata": {
    "collapsed": false
   },
   "outputs": [
    {
     "name": "stdout",
     "output_type": "stream",
     "text": [
      "The value of u at x=2.2 is -0.00026648912670920613.\n"
     ]
    }
   ],
   "source": [
    "u_lamb = lambdify((x), u)\n",
    "print(\"The value of u at x=2.2 is {}.\".format(u_lamb(2.2)))"
   ]
  },
  {
   "cell_type": "markdown",
   "metadata": {},
   "source": [
    "traffic flow"
   ]
  },
  {
   "cell_type": "code",
   "execution_count": 35,
   "metadata": {
    "collapsed": true
   },
   "outputs": [],
   "source": [
    " #constants\n",
    "Vm1 = 80\n",
    "Vm2 = 136\n",
    "rhoi1 = 10\n",
    "rhoi2 = 20\n",
    "rhoBC1 = 10\n",
    "rhoBC2 = 20\n",
    "L = 11\n",
    "rhom = 250\n",
    "nx = 51\n",
    "dx = L/(nx-1)\n",
    "dt = 0.001\n",
    "x = numpy.linspace(0,L,nx)\n",
    "\n",
    "rho = numpy.ones(nx) #arrays\n",
    "rhon = numpy.ones(nx)"
   ]
  },
  {
   "cell_type": "code",
   "execution_count": 36,
   "metadata": {
    "collapsed": true
   },
   "outputs": [],
   "source": [
    "def GetRho0(rhoi):\n",
    "    rho = numpy.ones(nx)*rhoi\n",
    "    rho[10:20] = 50\n",
    "    return rho"
   ]
  },
  {
   "cell_type": "code",
   "execution_count": 37,
   "metadata": {
    "collapsed": true
   },
   "outputs": [],
   "source": [
    "def GetRho(T,dt,rho0,rhoBC):\n",
    "    rhon = numpy.ones(nx)\n",
    "    rho = rho0\n",
    "    for n in range(1, Get_nt(T,dt)): \n",
    "        rhon = rho.copy() \n",
    "        rho[1:] = rhon[1:]-Vm*dt/dx*(rhon[1:]-rhon[0:-1])+Vm/rhom*dt/dx*(rhon[1:]**2-rhon[0:-1]**2)\n",
    "        rho[0] = rhoBC\n",
    "    return rho"
   ]
  },
  {
   "cell_type": "code",
   "execution_count": 38,
   "metadata": {
    "collapsed": true
   },
   "outputs": [],
   "source": [
    "def Get_nt(T,dt):\n",
    "    nt = int(T/60/dt)\n",
    "    print( \"At time t=\",T,\"minutes\" )\n",
    "    return nt"
   ]
  },
  {
   "cell_type": "code",
   "execution_count": 40,
   "metadata": {
    "collapsed": false
   },
   "outputs": [
    {
     "name": "stdout",
     "output_type": "stream",
     "text": [
      "At time t= 6.0 minutes\n",
      "[ 10.          10.          10.          10.          10.          10.          10.\n",
      "  10.          10.          10.          10.          10.          10.          10.\n",
      "  10.          10.          10.          10.00000003  10.00000016\n",
      "  10.00000086  10.00000412  10.00001783  10.00007034  10.00025458\n",
      "  10.00085102  10.00264251  10.00766178  10.0208415   10.05341663\n",
      "  10.12948055  10.29772473  10.65053696  11.35036214  12.65351012\n",
      "  14.89646927  18.3743208   23.06385534  28.35226654  33.17325439\n",
      "  36.61825125  38.40174992  38.76266933  38.11598331  36.82705918\n",
      "  35.15255876  33.25751938  31.24639346  29.18742436  27.12816228\n",
      "  25.10451886  23.14579824]\n"
     ]
    }
   ],
   "source": []
  },
  {
   "cell_type": "code",
   "execution_count": 44,
   "metadata": {
    "collapsed": true
   },
   "outputs": [],
   "source": [
    "def GetV(rho, Vm, rhom):\n",
    "    V = numpy.ones(nx)\n",
    "    V = Vm*(1-rho/rhom)\n",
    "    print(\"Average speed is\",numpy.average(V)/3.6,\"m/s \"\\\n",
    "          \"and minimum speed is\",numpy.min(V)/3.6,\"m/s when maximum speed is\",Vm,\"km/h\")"
   ]
  },
  {
   "cell_type": "code",
   "execution_count": 50,
   "metadata": {
    "collapsed": false
   },
   "outputs": [
    {
     "name": "stdout",
     "output_type": "stream",
     "text": [
      "At time t= 0.0 minutes\n",
      "Average speed is 20.6361655773 m/s and minimum speed is 17.7777777778 m/s when maximum speed is 80 km/h\n"
     ]
    }
   ],
   "source": [
    "GetV( GetRho(0.0,dt,GetRho0(rhoi1),rhoBC1) , Vm1, rhom)"
   ]
  },
  {
   "cell_type": "code",
   "execution_count": 51,
   "metadata": {
    "collapsed": false
   },
   "outputs": [
    {
     "name": "stdout",
     "output_type": "stream",
     "text": [
      "At time t= 3.0 minutes\n",
      "Average speed is 20.6361659024 m/s and minimum speed is 18.163766147 m/s when maximum speed is 80 km/h\n"
     ]
    }
   ],
   "source": [
    "GetV( GetRho(3.0,dt,GetRho0(rhoi1),rhoBC1) , Vm1, rhom)"
   ]
  },
  {
   "cell_type": "code",
   "execution_count": 52,
   "metadata": {
    "collapsed": false
   },
   "outputs": [
    {
     "name": "stdout",
     "output_type": "stream",
     "text": [
      "At time t= 6.0 minutes\n",
      "Average speed is 20.7303256984 m/s and minimum speed is 18.7766516147 m/s when maximum speed is 80 km/h\n"
     ]
    }
   ],
   "source": [
    "GetV( GetRho(6.0,dt,GetRho0(rhoi1),rhoBC1) , Vm1, rhom)"
   ]
  },
  {
   "cell_type": "code",
   "execution_count": 53,
   "metadata": {
    "collapsed": false
   },
   "outputs": [
    {
     "name": "stdout",
     "output_type": "stream",
     "text": [
      "At time t= 0.0 minutes\n",
      "Average speed is 33.8666666667 m/s and minimum speed is 30.2222222222 m/s when maximum speed is 136 km/h\n"
     ]
    }
   ],
   "source": [
    "GetV( GetRho(0.0,dt,GetRho0(rhoi2),rhoBC2) , Vm2, rhom)"
   ]
  },
  {
   "cell_type": "code",
   "execution_count": 54,
   "metadata": {
    "collapsed": false
   },
   "outputs": [
    {
     "name": "stdout",
     "output_type": "stream",
     "text": [
      "At time t= 3.0 minutes\n",
      "Average speed is 33.8666667139 m/s and minimum speed is 30.6820137293 m/s when maximum speed is 136 km/h\n"
     ]
    }
   ],
   "source": [
    "GetV( GetRho(3.0,dt,GetRho0(rhoi2),rhoBC2) , Vm2, rhom)"
   ]
  },
  {
   "cell_type": "markdown",
   "metadata": {},
   "source": [
    "Incorrect for final blank but original one works without function:"
   ]
  },
  {
   "cell_type": "code",
   "execution_count": 58,
   "metadata": {
    "collapsed": false
   },
   "outputs": [
    {
     "name": "stdout",
     "output_type": "stream",
     "text": [
      "Avg V is 33.8704871068 m/s\n",
      "Min V is 30.9462036369 m/s\n"
     ]
    }
   ],
   "source": [
    "Vm = 136 #constants\n",
    "L = 11\n",
    "rhom = 250\n",
    "nx = 51\n",
    "dx = L/(nx-1)\n",
    "dt = 0.001\n",
    "T = 3.0\n",
    "nt = int(T/60/dt)\n",
    "x = numpy.linspace(0,L,nx)\n",
    "\n",
    "rho = numpy.ones(nx) #arrays\n",
    "rhon = numpy.ones(nx)\n",
    "rho = numpy.ones(nx)*20\n",
    "rho[10:20] = 50\n",
    "\n",
    "for n in range(1, nt):  \n",
    "    rhon = rho.copy() \n",
    "    rho[1:] = rhon[1:]-Vm*dt/dx*(rhon[1:]-rhon[0:-1])+Vm/rhom*dt/dx*(rhon[1:]**2-rhon[0:-1]**2)\n",
    "    rho[0] = 20\n",
    "\n",
    "def Vminandavg(rhon, Vm, rhom):\n",
    "    V = numpy.ones(nx)\n",
    "    V = Vm*(1-rho/rhom)\n",
    "    print(\"Avg V is\",numpy.average(V)/3.6,\"m/s\")\n",
    "    n = numpy.min(V)/3.6\n",
    "    print(\"Min V is\",n,\"m/s\")\n",
    "\n",
    "Vminandavg(rho, Vm, rhom)"
   ]
  },
  {
   "cell_type": "code",
   "execution_count": null,
   "metadata": {
    "collapsed": true
   },
   "outputs": [],
   "source": []
  }
 ],
 "metadata": {
  "anaconda-cloud": {},
  "kernelspec": {
   "display_name": "Python [Root]",
   "language": "python",
   "name": "Python [Root]"
  },
  "language_info": {
   "codemirror_mode": {
    "name": "ipython",
    "version": 3
   },
   "file_extension": ".py",
   "mimetype": "text/x-python",
   "name": "python",
   "nbconvert_exporter": "python",
   "pygments_lexer": "ipython3",
   "version": "3.5.2"
  }
 },
 "nbformat": 4,
 "nbformat_minor": 0
}
